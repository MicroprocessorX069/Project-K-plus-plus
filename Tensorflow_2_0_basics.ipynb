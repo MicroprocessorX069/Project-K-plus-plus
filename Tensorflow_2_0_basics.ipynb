{
  "nbformat": 4,
  "nbformat_minor": 0,
  "metadata": {
    "colab": {
      "name": "Tensorflow 2.0 basics",
      "provenance": [],
      "collapsed_sections": [
        "8mrRheeaBw29",
        "DOiH_wC3-NNg"
      ],
      "authorship_tag": "ABX9TyPj3Qz90iY8M26CjMPN/9mx",
      "include_colab_link": true
    },
    "kernelspec": {
      "name": "python3",
      "display_name": "Python 3"
    }
  },
  "cells": [
    {
      "cell_type": "markdown",
      "metadata": {
        "id": "view-in-github",
        "colab_type": "text"
      },
      "source": [
        "<a href=\"https://colab.research.google.com/github/MicroprocessorX069/Project-K-plus-plus/blob/master/Tensorflow_2_0_basics.ipynb\" target=\"_parent\"><img src=\"https://colab.research.google.com/assets/colab-badge.svg\" alt=\"Open In Colab\"/></a>"
      ]
    },
    {
      "cell_type": "markdown",
      "metadata": {
        "id": "8mrRheeaBw29",
        "colab_type": "text"
      },
      "source": [
        "##Basics"
      ]
    },
    {
      "cell_type": "markdown",
      "metadata": {
        "id": "NnyZQmjS2-8p",
        "colab_type": "text"
      },
      "source": [
        "Two parts:\n",
        "\n",
        "1. Creating a graph"
      ]
    },
    {
      "cell_type": "code",
      "metadata": {
        "id": "oBcPHpbm3pId",
        "colab_type": "code",
        "colab": {
          "base_uri": "https://localhost:8080/",
          "height": 35
        },
        "outputId": "f2db0d44-ac02-46ae-baed-31394d7b5f78"
      },
      "source": [
        "tf.__version__"
      ],
      "execution_count": 5,
      "outputs": [
        {
          "output_type": "execute_result",
          "data": {
            "text/plain": [
              "'2.2.0'"
            ]
          },
          "metadata": {
            "tags": []
          },
          "execution_count": 5
        }
      ]
    },
    {
      "cell_type": "code",
      "metadata": {
        "id": "-_gQ7-nP0Peg",
        "colab_type": "code",
        "colab": {
          "base_uri": "https://localhost:8080/",
          "height": 35
        },
        "outputId": "bd280cd7-9948-4ef1-d99d-9222ad0c0887"
      },
      "source": [
        "import tensorflow as tf\n",
        "a = 2\n",
        "b = 3\n",
        "c = tf.add(a, b , name = 'Add')\n",
        "print(c)"
      ],
      "execution_count": 2,
      "outputs": [
        {
          "output_type": "stream",
          "text": [
            "tf.Tensor(5, shape=(), dtype=int32)\n"
          ],
          "name": "stdout"
        }
      ]
    },
    {
      "cell_type": "markdown",
      "metadata": {
        "id": "UxIZaNlj3Ulv",
        "colab_type": "text"
      },
      "source": [
        "2. Creating a session to run the graph"
      ]
    },
    {
      "cell_type": "code",
      "metadata": {
        "id": "Wdd_iVuz3Yti",
        "colab_type": "code",
        "colab": {}
      },
      "source": [
        "with tf.session() as sess:\n",
        "    print(sess.run(c))"
      ],
      "execution_count": 0,
      "outputs": []
    },
    {
      "cell_type": "markdown",
      "metadata": {
        "id": "KZG8F2SW5Fa9",
        "colab_type": "text"
      },
      "source": [
        "Source: https://github.com/aymericdamien/TensorFlow-Examples/tree/master/tensorflow_v2"
      ]
    },
    {
      "cell_type": "code",
      "metadata": {
        "id": "Rxix75VP5IOW",
        "colab_type": "code",
        "colab": {
          "base_uri": "https://localhost:8080/",
          "height": 69
        },
        "outputId": "83750a6b-7c5b-4c8e-c7ad-68b563f7da59"
      },
      "source": [
        "from __future__ import print_function\n",
        "import tensorflow as tf\n",
        "\n",
        "a = tf.constant(2)\n",
        "b = tf.constant(3)\n",
        "c = tf.constant(5)\n",
        "#You can print shape using a.shape, a.dtype\n",
        "\n",
        "add = tf.add(a, b)\n",
        "div = tf.divide(a, b)\n",
        "\n",
        "#print(add.numpy(), add.shape)\n",
        "#print(div.numpy(), div.dtype)\n",
        "\n",
        "#Matrix operations\n",
        "mat1 = tf.constant([[1., 2],[3, 4]])\n",
        "mat2 = tf.constant([[5., 6],[7, 8]])\n",
        "product = tf.matmul(mat1, mat2) #both tensors need to be of same dtype\n",
        "print(product)"
      ],
      "execution_count": 18,
      "outputs": [
        {
          "output_type": "stream",
          "text": [
            "tf.Tensor(\n",
            "[[19. 22.]\n",
            " [43. 50.]], shape=(2, 2), dtype=float32)\n"
          ],
          "name": "stdout"
        }
      ]
    },
    {
      "cell_type": "markdown",
      "metadata": {
        "id": "DOiH_wC3-NNg",
        "colab_type": "text"
      },
      "source": [
        "##Linear regression"
      ]
    },
    {
      "cell_type": "code",
      "metadata": {
        "id": "kIWmhJSL-PGC",
        "colab_type": "code",
        "colab": {}
      },
      "source": [
        "from __future__ import absolute_import, division, print_function\n",
        "import tensorflow as tf\n",
        "import numpy as np\n",
        "rng = np.random\n",
        "\n",
        "#Parameters\n",
        "learning_rate = 0.01\n",
        "training_steps = 1000\n",
        "display_step = 50\n",
        "\n",
        "# Training Data.\n",
        "X = np.array([3.3,4.4,5.5,6.71,6.93,4.168,9.779,6.182,7.59,2.167,\n",
        "              7.042,10.791,5.313,7.997,5.654,9.27,3.1])\n",
        "Y = np.array([1.7,2.76,2.09,3.19,1.694,1.573,3.366,2.596,2.53,1.221,\n",
        "              2.827,3.465,1.65,2.904,2.42,2.94,1.3])\n",
        "\n",
        "#Random weights and bias\n",
        "W = tf.Variable(rng.randn(), name = \"weight\")\n",
        "b = tf.Variable(rng.randn(), name = \"bias\")\n",
        "\n",
        "def linear_reg(x):\n",
        "  return W*x +b\n",
        "\n",
        "def mean_sq(y_pred, y_true):\n",
        "  #reduce_mean finds mean\n",
        "  return tf.reduce_mean(tf.square(y_pred - y_true))\n",
        "\n",
        "optimizer = tf.optimizers.SGD(learning_rate)\n"
      ],
      "execution_count": 0,
      "outputs": []
    },
    {
      "cell_type": "code",
      "metadata": {
        "id": "UpZDf1G5_Xzj",
        "colab_type": "code",
        "colab": {}
      },
      "source": [
        "def run_optimization():\n",
        "  #Wrap computation inside gradient tape for automatic differentiation\n",
        "  with tf.GradientTape() as g:\n",
        "    pred = linear_reg(X)\n",
        "    loss = mean_sq(pred, Y)\n",
        "  #compute gradients\n",
        "  gradients = g.gradient(loss, [W, b])\n",
        "\n",
        "  #Update weights and bias\n",
        "  optimizer.apply_gradients(zip(gradients, [W, b]))"
      ],
      "execution_count": 0,
      "outputs": []
    },
    {
      "cell_type": "code",
      "metadata": {
        "id": "wKb-MJmvABKK",
        "colab_type": "code",
        "colab": {
          "base_uri": "https://localhost:8080/",
          "height": 364
        },
        "outputId": "ee396a62-1f56-45b5-c76d-847bb0ae1bf0"
      },
      "source": [
        "#Train\n",
        "\n",
        "for step in range(1, training_steps +1):\n",
        "  run_optimization()\n",
        "  if step % display_step == 0:\n",
        "    pred = linear_reg(X)\n",
        "    loss = mean_sq(pred, Y)\n",
        "    print(\"step: %i, loss: %f, W: %f, b: %f\"%(step, loss, W.numpy(), b.numpy()))"
      ],
      "execution_count": 23,
      "outputs": [
        {
          "output_type": "stream",
          "text": [
            "step: 50, loss: 0.154261, W: 0.259683, b: 0.741742\n",
            "step: 100, loss: 0.154174, W: 0.258762, b: 0.748271\n",
            "step: 150, loss: 0.154106, W: 0.257947, b: 0.754054\n",
            "step: 200, loss: 0.154052, W: 0.257224, b: 0.759175\n",
            "step: 250, loss: 0.154010, W: 0.256585, b: 0.763709\n",
            "step: 300, loss: 0.153977, W: 0.256018, b: 0.767725\n",
            "step: 350, loss: 0.153951, W: 0.255517, b: 0.771281\n",
            "step: 400, loss: 0.153931, W: 0.255073, b: 0.774430\n",
            "step: 450, loss: 0.153915, W: 0.254679, b: 0.777219\n",
            "step: 500, loss: 0.153903, W: 0.254331, b: 0.779689\n",
            "step: 550, loss: 0.153893, W: 0.254022, b: 0.781876\n",
            "step: 600, loss: 0.153885, W: 0.253749, b: 0.783813\n",
            "step: 650, loss: 0.153880, W: 0.253507, b: 0.785528\n",
            "step: 700, loss: 0.153875, W: 0.253293, b: 0.787047\n",
            "step: 750, loss: 0.153871, W: 0.253103, b: 0.788392\n",
            "step: 800, loss: 0.153868, W: 0.252935, b: 0.789583\n",
            "step: 850, loss: 0.153866, W: 0.252786, b: 0.790638\n",
            "step: 900, loss: 0.153864, W: 0.252655, b: 0.791572\n",
            "step: 950, loss: 0.153863, W: 0.252538, b: 0.792400\n",
            "step: 1000, loss: 0.153862, W: 0.252435, b: 0.793132\n"
          ],
          "name": "stdout"
        }
      ]
    },
    {
      "cell_type": "code",
      "metadata": {
        "id": "CpxKxjLEAryF",
        "colab_type": "code",
        "colab": {
          "base_uri": "https://localhost:8080/",
          "height": 265
        },
        "outputId": "0e9a2915-8ec1-40ee-e8f2-c1e037afa70d"
      },
      "source": [
        "import matplotlib.pyplot as plt\n",
        "\n",
        "plt.plot(X, Y, 'ro', label = 'Original data')\n",
        "plt.plot(X, np.array(W*X+b), label = 'Fitted line')\n",
        "plt.legend()\n",
        "plt.show()"
      ],
      "execution_count": 26,
      "outputs": [
        {
          "output_type": "display_data",
          "data": {
            "image/png": "[encoded data removed]",
            "text/plain": [
              "<Figure size 432x288 with 1 Axes>"
            ]
          },
          "metadata": {
            "tags": [],
            "needs_background": "light"
          }
        }
      ]
    },
    {
      "cell_type": "markdown",
      "metadata": {
        "id": "c8yN3XHdBpqm",
        "colab_type": "text"
      },
      "source": [
        "##Logistic regression"
      ]
    },
    {
      "cell_type": "code",
      "metadata": {
        "id": "st5tI3RaBr7I",
        "colab_type": "code",
        "colab": {
          "base_uri": "https://localhost:8080/",
          "height": 72
        },
        "outputId": "02e302b4-48cb-47dc-f6df-6e5d76e310ed"
      },
      "source": [
        "from __future__ import absolute_import, division, print_function\n",
        "import tensorflow as tf\n",
        "import numpy as np\n",
        "\n",
        "num_classes = 10\n",
        "num_features = 784\n",
        "\n",
        "#Parameters\n",
        "learning_rate = 0.01\n",
        "training_steps = 1000\n",
        "batch_size = 256\n",
        "display_step = 50\n",
        "\n",
        "#Dataset\n",
        "from tensorflow.keras.datasets import mnist\n",
        "(x_train, y_train), (x_test, y_test) = mnist.load_data()\n",
        "#print(type(x_train), x_train.shape) <class 'numpy.ndarray'> (60000, 28, 28)\n",
        "\n",
        "#Convert to float\n",
        "x_train, x_test = np.array(x_train, np.float32), np.array(x_test, np.float32)\n",
        "#Flatten 27*27 to 784\n",
        "x_train, x_test = x_train.reshape([-1, num_features]), \\\n",
        "                  x_test.reshape([-1, num_features])\n",
        "\n",
        "#Normalize\n",
        "x_train, x_test = x_train/255., x_test/255."
      ],
      "execution_count": 2,
      "outputs": [
        {
          "output_type": "stream",
          "text": [
            "Downloading data from https://storage.googleapis.com/tensorflow/tf-keras-datasets/mnist.npz\n",
            "11493376/11490434 [==============================] - 0s 0us/step\n"
          ],
          "name": "stdout"
        }
      ]
    },
    {
      "cell_type": "code",
      "metadata": {
        "id": "56RQVhpFz1j9",
        "colab_type": "code",
        "colab": {
          "base_uri": "https://localhost:8080/",
          "height": 52
        },
        "outputId": "5a0237f7-f10a-453d-df90-41e95dbd95b2"
      },
      "source": [
        "#Use tf.data API to shuffle \n",
        "train_data = tf.data.Dataset.from_tensor_slices((x_train, y_train))\n",
        "#print(train_data) #<TensorSliceDataset shapes: ((784,), ()), types: (tf.float32, tf.uint8)>\n",
        "train_data = train_data.repeat() \\\n",
        "                        .shuffle(5000) \\\n",
        "                        .batch(batch_size) \\\n",
        "                        .prefetch(1)\n",
        "#prefetch allows later elements to be prepared while the current element is being processed.                         \n",
        "#print(train_data) #<PrefetchDataset shapes: ((None, 784), (None,)), types: (tf.float32, tf.uint8)>"
      ],
      "execution_count": 4,
      "outputs": [
        {
          "output_type": "stream",
          "text": [
            "<TensorSliceDataset shapes: ((784,), ()), types: (tf.float32, tf.uint8)>\n",
            "<PrefetchDataset shapes: ((None, 784), (None,)), types: (tf.float32, tf.uint8)>\n"
          ],
          "name": "stdout"
        }
      ]
    },
    {
      "cell_type": "code",
      "metadata": {
        "id": "WPlbQHyb2Gav",
        "colab_type": "code",
        "colab": {}
      },
      "source": [
        "#Weight of shape 784, 10\n",
        "W = tf.Variable(tf.ones([num_features, num_classes]), name = 'weight')\n",
        "#Bias of shape 10 total no of classes\n",
        "b = tf.Variable(tf.zeros([num_classes]), name = \"bias\")\n",
        "\n",
        "def logistic_regression(x):\n",
        "  #Applying softmax to normalize the logits to probability distribution\n",
        "  return tf.nn.softmax(tf.matmul(x, W) + b)\n",
        "\n",
        "def cross_entropy(y_pred, y_true):\n",
        "  #Encode label to a one hot vector\n",
        "  y_true = tf.one_hot(y_true, depth=num_classes)\n",
        "  #clip prediction values to avoid log(0) error\n",
        "  y_pred = tf.clip_by_value(y_pred, 1e-9, 1.)\n",
        "  #Compute cross-entropy\n",
        "  return tf.reduce_mean(-tf.reduce_sum(w))"
      ],
      "execution_count": 0,
      "outputs": []
    },
    {
      "cell_type": "markdown",
      "metadata": {
        "id": "89OjM1F87gWO",
        "colab_type": "text"
      },
      "source": [
        "##Simple linear model\n",
        "\n",
        "https://github.com/Hvass-Labs/TensorFlow-Tutorials/blob/master/01_Simple_Linear_Model.ipynb\n"
      ]
    },
    {
      "cell_type": "code",
      "metadata": {
        "id": "mdW5FeNUxzZB",
        "colab_type": "code",
        "colab": {}
      },
      "source": [
        "!git clone https://github.com/Hvass-Labs/TensorFlow-Tutorials.git"
      ],
      "execution_count": 0,
      "outputs": []
    },
    {
      "cell_type": "code",
      "metadata": {
        "id": "0AzlmXJSyyVJ",
        "colab_type": "code",
        "colab": {}
      },
      "source": [
        "%cd TensorFlow-Tutorials\n",
        "!pwd"
      ],
      "execution_count": 0,
      "outputs": []
    },
    {
      "cell_type": "code",
      "metadata": {
        "id": "CpJ9l7wU7l18",
        "colab_type": "code",
        "colab": {
          "base_uri": "https://localhost:8080/",
          "height": 314
        },
        "outputId": "4e7891c6-11ad-4260-c046-e57f10231115"
      },
      "source": [
        "%matplotlib inline\n",
        "import matplotlib.pyplot as plt\n",
        "import numpy as np\n",
        "from sklearn.metrics import confusion_matrix\n",
        "\n",
        "import tensorflow.compat.v1 as tf\n",
        "tf.disable_v2_behavior()\n",
        "\n",
        "from mnist import MNIST\n",
        "data = MNIST(data_dir = \"data/MNIST/\")\n",
        "\n",
        "print(\"training {}\".format(data.num_train))\n",
        "print(\"validation {}\".format(data.num_val))\n",
        "print(\"test {}\".format(data.num_test))\n",
        "\n",
        "img_size_flat = data.img_size_flat\n",
        "img_shape = data.img_shape\n",
        "num_classes = data.num_classes\n",
        "\n",
        "def plot_images(images, cls_true, cls_pred = None):\n",
        "  assert len(images) == len(cls_true) == 9\n",
        "\n",
        "  #fig with 3x3 plots\n",
        "  fig, axes = plt.subplots(3, 3)\n",
        "  fig.subplots_adjust(hspace = 0.3, wspace = 0.3)\n",
        "\n",
        "  for i, ax in enumerate(axes.flat):\n",
        "    ax.imshow(images[i].reshape(img_shape), cmap = 'binary')\n",
        "\n",
        "    if cls_pred is None:\n",
        "      xlabel = \"True: {0}\".format(cls_true[i])\n",
        "\n",
        "    else:\n",
        "      xlabel = \"True: {0}, Pred: {1}\".format(cls_true[i], cls_pred[i])\n",
        "    ax.set_xlabel(xlabel) \n",
        "    #Remove ticks from plot\n",
        "    ax.set_xticks([]) \n",
        "    ax.set_yticks([])\n",
        "\n",
        "  plt.show()\n",
        "\n",
        "images = data.x_test[:9]\n",
        "cls_true = data.y_test_cls[:9]\n",
        "\n",
        "plot_images(images, cls_true)"
      ],
      "execution_count": 10,
      "outputs": [
        {
          "output_type": "stream",
          "text": [
            "training 55000\n",
            "validation 5000\n",
            "test 10000\n"
          ],
          "name": "stdout"
        },
        {
          "output_type": "display_data",
          "data": {
            "image/png": "[encoded data removed]",
            "text/plain": [
              "<Figure size 432x288 with 9 Axes>"
            ]
          },
          "metadata": {
            "tags": []
          }
        }
      ]
    },
    {
      "cell_type": "markdown",
      "metadata": {
        "id": "LjwaGdZk4FCj",
        "colab_type": "text"
      },
      "source": [
        "###Computational graph\n",
        "Building a tensorflow graph\n",
        "1. placeholder variables\n",
        "2. Model variables to be optimized\n",
        "3. Model\n",
        "4. Cost function\n",
        "5. Optimizer"
      ]
    },
    {
      "cell_type": "code",
      "metadata": {
        "id": "Q1p8Q3AG8Ajq",
        "colab_type": "code",
        "colab": {}
      },
      "source": [
        "#placeholders\n",
        "x = tf.placeholder(tf.float32, [None, img_size_flat])\n",
        "y_true = tf.placeholder(tf.float32, [None, num_classes])\n",
        "y_true_cls = tf.placeholder(tf.int64, [None])\n",
        "\n",
        "#Model parameters\n",
        "weights = tf.Variable(tf.zeros([img_size_flat, num_classes]))\n",
        "biases = tf.Variable(tf.zeros([num_classes]))\n",
        "\n",
        "#Model\n",
        "logits = tf.matmul(x, weights) + biases\n",
        "y_pred = tf.nn.softmax(logits)\n",
        "y_pred_cls = tf.argmax(y_pred, axis = 1)\n",
        "\n",
        "#Cost function\n",
        "cross_entropy = tf.nn.softmax_cross_entropy_with_logits_v2(\n",
        "    logits = logits,\n",
        "    labels = y_true\n",
        ")\n",
        "cost = tf.reduce_mean(cross_entropy)\n",
        "\n",
        "#optimizer\n",
        "optimizer = tf.train.GradientDescentOptimizer(learning_rate = 0.5) \\\n",
        "                    .minimize(cost)\n",
        "\n",
        "#performance measures\n",
        "correct_prediction = tf.equal(y_pred_cls, y_true_cls)\n",
        "accuracy = tf.reduce_mean(tf.cast(correct_prediction, tf.float32))"
      ],
      "execution_count": 0,
      "outputs": []
    },
    {
      "cell_type": "markdown",
      "metadata": {
        "id": "hpgnYrCFThwR",
        "colab_type": "text"
      },
      "source": [
        "###Tensorflow run"
      ]
    },
    {
      "cell_type": "code",
      "metadata": {
        "id": "Ovau5WUfTlDS",
        "colab_type": "code",
        "colab": {}
      },
      "source": [
        "session = tf.Session()\n",
        "#Initialize weights and biases and global variables\n",
        "session.run(tf.global_variables_initializer())\n",
        "batch_size = 100 #Stocastic gradient descent\n",
        "\n",
        "def optimize(num_iterations):\n",
        "  for i in range(num_iterations):\n",
        "    #x_batch, y_true_batch: batch of images, labels\n",
        "    x_batch, y_true_batch, _ = data.random_batch(batch_size = batch_size)\n",
        "    #Put the batch as dict in names of placeholders\n",
        "    feed_dict_train = {x:x_batch,\n",
        "                       y_true: y_true_batch}\n",
        "    #Run the optimizer, tf automaticaly assigns the placeholders\n",
        "    session.run(optimizer, feed_dict = feed_dict_train)\n"
      ],
      "execution_count": 0,
      "outputs": []
    },
    {
      "cell_type": "code",
      "metadata": {
        "id": "XPh8XPPfVBAU",
        "colab_type": "code",
        "colab": {}
      },
      "source": [
        "#performance sessions\n",
        "feed_dict_test = {x:data.x_test, \n",
        "                  y_true:data.y_test, \n",
        "                  y_true_cls:data.y_test_cls}\n",
        "\n",
        "def print_accuracy():\n",
        "  acc = session.run(accuracy, feed_dict = feed_dict_test)\n",
        "  print(\"test Accuracy : {0:.1%}\".format(acc))\n",
        "\n",
        "def print_confusion_matrix():\n",
        "  '''Plot confusion matrix images'''\n",
        "  cls_true = data.y_test_cls\n",
        "  cls_pred = session.run(y_pred_cls, feed_dict = feed_dict_test)\n",
        "  #Above, y_pred_cls is the op in tf graph. check above\n",
        "  cm = confusion_matrix(y_true = cls_true,\n",
        "                        y_pred = cls_pred)\n",
        "  print(cm)\n",
        "  plt.imshow(cm, interpolation = 'nearest', cmap = plt.cm.Blues)\n",
        "\n",
        "  plt.tight_layout()\n",
        "  plt.colorbar()\n",
        "  tick_marks = np.arange(num_classes)\n",
        "  plt.xticks(tick_marks, range(num_classes))\n",
        "  plt.yticks(tick_marks, range(num_classes))\n",
        "  plt.xlabel('Predicted')\n",
        "  plt.ylabel('True')\n",
        "\n",
        "  plt.show()\n",
        "\n",
        "def plot_example_errors():\n",
        "  '''Plot wrongly classified images'''\n",
        "  correct, cls_pred = session.run([correct_prediction, y_pred_cls], \\\n",
        "                                  feed_dict = feed_dict_test)\n",
        "  #Getting indices of incorrect predictions\n",
        "  incorrect = (correct == False)\n",
        "  images = data.x_test[incorrect]\n",
        "  cls_pred = cls_pred[incorrect]\n",
        "  cls_true = data.y_test_cls[incorrect]\n",
        "\n",
        "  plot_images(images = images[:9],\n",
        "              cls_true = cls_true[:9],\n",
        "              cls_pred = cls_pred[:9])\n",
        "  \n",
        "def plot_weights():\n",
        "  w = session.run(weights)\n",
        "  #min and max to correct the color intensities\n",
        "  w_min = np.min(w)\n",
        "  w_max = np.max(w)\n",
        "\n",
        "  fig, axes = plt.subplots(3, 4)\n",
        "  fig.subplots_adjust(hspace = 0.3, wspace = 0.3)\n",
        "\n",
        "  for i, ax in enumerate(axes.flat):\n",
        "    if i<10:\n",
        "      #To get back 784 to 27*27\n",
        "      image = w[:, i].reshape(img_shape)\n",
        "      ax.set_xlabel(\"Weights: {0}\".format(i))\n",
        "      ax.imshow(image, vmin = w_min, vmax = w_max, cmap = 'seismic')\n",
        "      ax.set_xticks([])\n",
        "      ax.set_yticks([])\n",
        "  plt.show()"
      ],
      "execution_count": 0,
      "outputs": []
    },
    {
      "cell_type": "markdown",
      "metadata": {
        "id": "H2Zfa3XYa17s",
        "colab_type": "text"
      },
      "source": [
        "Triggering the graph"
      ]
    },
    {
      "cell_type": "code",
      "metadata": {
        "id": "OVpDVN0qa3eC",
        "colab_type": "code",
        "colab": {
          "base_uri": "https://localhost:8080/",
          "height": 279
        },
        "outputId": "86b4ad66-fde8-4beb-839e-a939ba7b2f84"
      },
      "source": [
        "#Before train\n",
        "print_accuracy()\n",
        "plot_example_errors()\n"
      ],
      "execution_count": 18,
      "outputs": [
        {
          "output_type": "stream",
          "text": [
            "test Accuracy : 9.8%\n"
          ],
          "name": "stdout"
        },
        {
          "output_type": "display_data",
          "data": {
            "image/png": "[encoded data removed]",
            "text/plain": [
              "<Figure size 432x288 with 9 Axes>"
            ]
          },
          "metadata": {
            "tags": []
          }
        }
      ]
    },
    {
      "cell_type": "code",
      "metadata": {
        "id": "hyfxnev3b7SI",
        "colab_type": "code",
        "colab": {
          "base_uri": "https://localhost:8080/",
          "height": 35
        },
        "outputId": "7bc9e6ad-ede0-46f2-8b6f-73f5d8d538ae"
      },
      "source": [
        "#1 iteration\n",
        "optimize(num_iterations = 1)\n",
        "print_accuracy()"
      ],
      "execution_count": 19,
      "outputs": [
        {
          "output_type": "stream",
          "text": [
            "test Accuracy : 25.0%\n"
          ],
          "name": "stdout"
        }
      ]
    },
    {
      "cell_type": "code",
      "metadata": {
        "id": "0gBws1S4cIel",
        "colab_type": "code",
        "colab": {
          "base_uri": "https://localhost:8080/",
          "height": 279
        },
        "outputId": "3eb2d73d-0e1b-445e-e10a-f9638d5a5b76"
      },
      "source": [
        "optimize(num_iterations = 1000)\n",
        "print_accuracy()\n",
        "plot_example_errors()"
      ],
      "execution_count": 21,
      "outputs": [
        {
          "output_type": "stream",
          "text": [
            "test Accuracy : 91.8%\n"
          ],
          "name": "stdout"
        },
        {
          "output_type": "display_data",
          "data": {
            "image/png": "[encoded data removed]",
            "text/plain": [
              "<Figure size 432x288 with 9 Axes>"
            ]
          },
          "metadata": {
            "tags": []
          }
        }
      ]
    },
    {
      "cell_type": "code",
      "metadata": {
        "id": "P765Ts8ocYgU",
        "colab_type": "code",
        "colab": {
          "base_uri": "https://localhost:8080/",
          "height": 265
        },
        "outputId": "93c678e6-191a-46f9-d854-f27d23a99859"
      },
      "source": [
        "plot_weights()"
      ],
      "execution_count": 26,
      "outputs": [
        {
          "output_type": "display_data",
          "data": {
            "image/png": "[encoded data removed]",
            "text/plain": [
              "<Figure size 432x288 with 12 Axes>"
            ]
          },
          "metadata": {
            "tags": [],
            "needs_background": "light"
          }
        }
      ]
    },
    {
      "cell_type": "code",
      "metadata": {
        "id": "wgUXJF8mc-dI",
        "colab_type": "code",
        "colab": {
          "base_uri": "https://localhost:8080/",
          "height": 485
        },
        "outputId": "0c14f939-0079-4d5d-8206-9319ff0ad0f7"
      },
      "source": [
        "print_confusion_matrix()"
      ],
      "execution_count": 29,
      "outputs": [
        {
          "output_type": "stream",
          "text": [
            "[[ 954    0    6    1    1    5   10    1    2    0]\n",
            " [   0 1109    3    3    0    2    4    2   12    0]\n",
            " [   5    5  942   14   11    3    8   10   28    6]\n",
            " [   4    0   24  924    0   26    2    9   13    8]\n",
            " [   2    4    8    1  906    0    7    3    7   44]\n",
            " [  11    3   12   40   10  759   14    7   28    8]\n",
            " [  10    3   14    1   13    9  902    1    5    0]\n",
            " [   2    8   30    8   10    0    0  932    2   36]\n",
            " [   8   10   12   36   11   26   11   12  841    7]\n",
            " [   9    7    3   12   33    8    0   21    6  910]]\n"
          ],
          "name": "stdout"
        },
        {
          "output_type": "display_data",
          "data": {
            "image/png": "[encoded data removed]",
            "text/plain": [
              "<Figure size 432x288 with 2 Axes>"
            ]
          },
          "metadata": {
            "tags": [],
            "needs_background": "light"
          }
        }
      ]
    },
    {
      "cell_type": "markdown",
      "metadata": {
        "id": "Mv5M8STcq4G_",
        "colab_type": "text"
      },
      "source": [
        "##CNN\n",
        "\n",
        "https://github.com/Hvass-Labs/TensorFlow-Tutorials/blob/master/02_Convolutional_Neural_Network.ipynb"
      ]
    },
    {
      "cell_type": "code",
      "metadata": {
        "id": "51ZCmbphq7XZ",
        "colab_type": "code",
        "colab": {}
      },
      "source": [
        "%matplotlib inline\n",
        "import matplotlib.pyplot as plt\n",
        "import numpy as np\n",
        "from sklearn.metrics import confusion_matrix\n",
        "import time\n",
        "from datetime import timedelta\n",
        "import math\n",
        "\n",
        "import tensorflow.compat.v1 as tf\n",
        "tf.disable_v2_behavior()"
      ],
      "execution_count": 0,
      "outputs": []
    },
    {
      "cell_type": "code",
      "metadata": {
        "id": "yrDLPVNerUoD",
        "colab_type": "code",
        "colab": {}
      },
      "source": [
        "#Configuration of CNN\n",
        "\n",
        "filter_size1 = 5\n",
        "num_filters1 = 16\n",
        "\n",
        "filter_size2 = 5\n",
        "num_filters2 = 36\n",
        "\n",
        "fc_size = 128\n"
      ],
      "execution_count": 0,
      "outputs": []
    },
    {
      "cell_type": "code",
      "metadata": {
        "id": "IotT3s-6rl5P",
        "colab_type": "code",
        "colab": {
          "base_uri": "https://localhost:8080/",
          "height": 69
        },
        "outputId": "b236d3fe-2679-4c2e-c135-f5351731f398"
      },
      "source": [
        "#Data\n",
        "from mnist import MNIST\n",
        "data = MNIST(data_dir = 'data/MNIST/')\n",
        "\n",
        "print(\"training: {}\".format(data.num_train))\n",
        "print(\"validation: {}\".format(data.num_val))\n",
        "print(\"test: {}\".format(data.num_test))\n",
        "\n",
        "img_size = data.img_size\n",
        "img_size_flat = data.img_size_flat\n",
        "img_shape = data.img_shape\n",
        "num_classes = data.num_classes\n",
        "num_channels = data.num_channels"
      ],
      "execution_count": 38,
      "outputs": [
        {
          "output_type": "stream",
          "text": [
            "training: 55000\n",
            "validation: 5000\n",
            "test: 10000\n"
          ],
          "name": "stdout"
        }
      ]
    },
    {
      "cell_type": "code",
      "metadata": {
        "id": "zMh_mHvVsTGg",
        "colab_type": "code",
        "colab": {
          "base_uri": "https://localhost:8080/",
          "height": 245
        },
        "outputId": "5913c556-93ef-4f8a-d2d1-cf25d029ad9c"
      },
      "source": [
        "#utils\n",
        "\n",
        "def plot_images(images, cls_true, cls_pred=None):\n",
        "    assert len(images) == len(cls_true) == 9\n",
        "    \n",
        "    # Create figure with 3x3 sub-plots.\n",
        "    fig, axes = plt.subplots(3, 3)\n",
        "    fig.subplots_adjust(hspace=0.3, wspace=0.3)\n",
        "\n",
        "    for i, ax in enumerate(axes.flat):\n",
        "        # Plot image.\n",
        "        ax.imshow(images[i].reshape(img_shape), cmap='binary')\n",
        "\n",
        "        # Show true and predicted classes.\n",
        "        if cls_pred is None:\n",
        "            xlabel = \"True: {0}\".format(cls_true[i])\n",
        "        else:\n",
        "            xlabel = \"True: {0}, Pred: {1}\".format(cls_true[i], cls_pred[i])\n",
        "\n",
        "        # Show the classes as the label on the x-axis.\n",
        "        ax.set_xlabel(xlabel)\n",
        "        \n",
        "        # Remove ticks from the plot.\n",
        "        ax.set_xticks([])\n",
        "        ax.set_yticks([])\n",
        "    \n",
        "    # Ensure the plot is shown correctly with multiple plots\n",
        "    # in a single Notebook cell.\n",
        "    plt.show()\n",
        "\n",
        "#utils for nn\n",
        "def new_weights(shape):\n",
        "  return tf.Variable(tf.truncated_normal(shape, stddev = 0.05))\n",
        "  \n",
        "def new_biases(length):\n",
        "  return tf.Variable(tf.constant(0.05, shape = [length]))\n",
        "\n",
        "def new_conv_layer(input, num_input_channels, filter_size, num_filters, use_pooling=True):\n",
        "  shape = [filter_size, filter_size, num_input_channels, num_filters]\n",
        "\n",
        "  weights = new_weights(shape = shape)\n",
        "  biases = new_biases(length = num_filters)\n",
        "  \n",
        "  layer = tf.nn.conv2d(input = input, \n",
        "                        filter = weights,\n",
        "                        strides = [1,1,1,1],\n",
        "                        padding = 'SAME') #keep the output of the same size\n",
        "  layer += biases #Adding biases to layer values\n",
        "  if use_pooling:\n",
        "    layer = tf.nn.max_pool(value = layer,\n",
        "                           ksize = [1,2,2,1], #each for [batch_size, 28, 28, 1]\n",
        "                           strides = [1,2,2,1], #basically 2x2, with stride 2x2\n",
        "                           padding = 'SAME')\n",
        "  #Relu:max(0,x) to add non linearity and learn more complicated func.\n",
        "  layer = tf.nn.relu(layer) #normally relu before pooling\n",
        "  return layer, weights\n",
        "\n",
        "def flatten_layer(layer):\n",
        "  layer_shape = layer.get_shape()\n",
        "  # layer_shape == [num_images, img_height, img_width, num_channels]\n",
        "  num_features = layer_shape[1:4].num_elements()\n",
        "  #now flatten [batch_size, num_features]\n",
        "  layer_flat = tf.reshape(layer, [-1, num_features])\n",
        "  return layer_flat, num_features\n",
        "\n",
        "#Creating a fully connected network\n",
        "\n",
        "def new_fc_layer(input, num_inputs, num_outputs, use_relu = True):\n",
        "  #For the last normal nn layer\n",
        "  weights = new_weights(shape = [num_inputs, num_outputs])\n",
        "  biases = new_biases(length=num_outputs)\n",
        "\n",
        "  layer = tf.matmul(input, weights) + biases\n",
        "  if use_relu:\n",
        "    layer = tf.nn.relu(layer)\n",
        "\n",
        "  return layer\n",
        "\n",
        "#placeholders\n",
        "x = tf.placeholder(tf.float32, shape = [None, img_size_flat], name = 'x')\n",
        "#X_image is not a placeholder, only user args are placeholders\n",
        "x_image = tf.reshape(x, [-1, img_size, img_size, num_channels])\n",
        "y_true = tf.placeholder(tf.float32, shape = [None, num_classes], name= 'y_true')\n",
        "y_true_cls = tf.argmax(y_true, axis=1)\n",
        "\n",
        "#Model\n",
        "#Layer1\n",
        "layer_conv1, weights_conv1 = \\\n",
        "    new_conv_layer(input = x_image,\n",
        "                   num_input_channels = num_channels,\n",
        "                   filter_size = filter_size1,\n",
        "                   num_filters = num_filters1,\n",
        "                   use_pooling = True)\n",
        "    \n",
        "print(layer_conv1) #14x14x16 <tf.Tensor 'Relu:0' shape=(?, 14, 14, 16) dtype=float32>\n",
        "#Layer 2\n",
        "layer_conv2, weights_conv2 = \\\n",
        "  new_conv_layer(input = layer_conv1,\n",
        "                 num_input_channels = num_filters1, #16\n",
        "                 filter_size = filter_size2, #5x5\n",
        "                 num_filters = num_filters2, #36\n",
        "                 use_pooling = True)\n",
        "  \n",
        "print(layer_conv2) #7x7x36 <tf.Tensor 'Relu_1:0' shape=(?, 7, 7, 36) dtype=float32>\n",
        "\n",
        "\n",
        "#Flatten conv later to put in normal nn\n",
        "layer_flat, num_features = flatten_layer(layer_conv2)\n",
        "#<tf.Tensor 'Reshape_1:0' shape=(?, 1764) dtype=float32>  \n",
        "layer_fc1 = new_fc_layer(input = layer_flat,\n",
        "                num_inputs = num_features,\n",
        "                num_outputs = fc_size,\n",
        "                use_relu = True)\n",
        "print(layer_fc1) #<tf.Tensor 'Relu_2:0' shape=(?, 128) dtype=float32>\n",
        "#fc is fullyconnected\n",
        "layer_fc2 = new_fc_layer(input = layer_fc1,\n",
        "                         num_inputs = fc_size,\n",
        "                         num_outputs = num_classes,\n",
        "                         use_relu = False) #Will use softmax at end\n",
        "print(layer_fc2) #<tf.Tensor 'add_3:0' shape=(?, 10) dtype=float32>          \n",
        "y_pred = tf.nn.softmax(layer_fc2)\n",
        "y_pred_cls = tf.argmax(y_pred, axis = 1)\n",
        "\n",
        "#cost function\n",
        "cross_entropy = tf.nn.softmax_cross_entropy_with_logits(logits = layer_fc2,\n",
        "                                                        labels = y_true)\n",
        "cost = tf.reduce_mean(cross_entropy)\n",
        "\n",
        "#optimizer\n",
        "optimizer = tf.train.AdamOptimizer(learning_rate = 1e-4).minimize(cost)\n",
        "\n",
        "#performance measures\n",
        "correct_prediction = tf.equal(y_pred_cls, y_true_cls)\n",
        "accuracy = tf.reduce_mean(tf.cast(correct_prediction, tf.float32))\n"
      ],
      "execution_count": 41,
      "outputs": [
        {
          "output_type": "stream",
          "text": [
            "Tensor(\"Relu_2:0\", shape=(?, 14, 14, 16), dtype=float32)\n",
            "Tensor(\"Relu_3:0\", shape=(?, 7, 7, 36), dtype=float32)\n",
            "Tensor(\"Relu_4:0\", shape=(?, 128), dtype=float32)\n",
            "Tensor(\"add_8:0\", shape=(?, 10), dtype=float32)\n",
            "WARNING:tensorflow:From <ipython-input-41-b426c1fd9a1e>:124: softmax_cross_entropy_with_logits (from tensorflow.python.ops.nn_ops) is deprecated and will be removed in a future version.\n",
            "Instructions for updating:\n",
            "\n",
            "Future major versions of TensorFlow will allow gradients to flow\n",
            "into the labels input on backprop by default.\n",
            "\n",
            "See `tf.nn.softmax_cross_entropy_with_logits_v2`.\n",
            "\n"
          ],
          "name": "stdout"
        }
      ]
    },
    {
      "cell_type": "code",
      "metadata": {
        "id": "fltOqW41BYKc",
        "colab_type": "code",
        "colab": {}
      },
      "source": [
        "#Run graph\n",
        "session = tf.Session()\n",
        "session.run(tf.global_variables_initializer())\n",
        "train_batch_size = 64\n",
        "total_iterations = 0\n",
        "\n",
        "#Optimize function\n",
        "def optimize(num_iterations):\n",
        "  global total_iterations\n",
        "  start_time = time.time()\n",
        "  for i in range(total_iterations, total_iterations+num_iterations):\n",
        "    #Get the batch of input, output from training\n",
        "    x_batch, y_true_batch, _ = data.random_batch(batch_size = train_batch_size)\n",
        "\n",
        "    #Now feed in the graph AS PLACEHOLDERS\n",
        "    feed_dict_train = {x : x_batch,\n",
        "                       y_true: y_true_batch}\n",
        "    #To train run optimizer, to test, run accuracy\n",
        "    session.run(optimizer, feed_dict = feed_dict_train)\n",
        "\n",
        "    if i%100 == 0:\n",
        "      acc = session.run(accuracy, feed_dict = feed_dict_train)\n",
        "      msg = \"Train iteration: {0:>6}, acc:{1:>6.1%}\"\n",
        "      print(msg.format(i+1, acc))\n",
        "\n",
        "    total_iterations += num_iterations\n",
        "    end_time = time.time()\n",
        "    time_diff = end_time - start_time\n",
        "    print(\"Time usage: \"+ str(timedelta(seconds = int(round(time_dif)))))\n",
        "\n"
      ],
      "execution_count": 0,
      "outputs": []
    },
    {
      "cell_type": "code",
      "metadata": {
        "id": "uh_fBL8-DXTN",
        "colab_type": "code",
        "colab": {}
      },
      "source": [
        "#Output visual utils\n",
        "\n",
        "#correct is the boolean list of correct and wrong predictions\n",
        "def plot_example_errors(cls_pred, correct):\n",
        "  #Get indices of incorrect \n",
        "  incorrect = (correct == False)\n",
        "  images = data.x_test[incorrect]\n",
        "  cls_pred = cls_pred[incorrect]\n",
        "  cls_true = data.y_test[incorrect]\n",
        "  plot_images(images = images[:9],\n",
        "              cls_true = cls_true[:9],\n",
        "              cls_pred = cls_pred[:9])\n",
        "  \n",
        "def plot_confusion_matrix(cls_pred):\n",
        "  cls_true = data.y_test_cls\n",
        "  cm = confusion_matrix(y_true = cls_true,\n",
        "                        y_pred = cls_pred)\n",
        "  #print(cm)\n",
        "  plt.matshow(cm)\n",
        "\n",
        "  plt.colorbar()\n",
        "  tick_marks = np.arange(num_classes)\n",
        "  plt.xticks(tick_marks, range(num_classes))\n",
        "  plt.yticks(tick_marks, range(num_classes))\n",
        "  plt.xlabel('Predicted')\n",
        "  plt.ylabel('True')\n",
        "  plt.show()\n",
        "\n",
        " test_batch_size = 256\n",
        " def print_test_accuracy(show_example_errors = False, \n",
        "                         show_confusion_matrix = False):\n",
        "   num_test = data.num_test\n",
        "   cls_pred = np.zeros(shape = num_test, dtype = np.int)\n",
        "   i = 0\n",
        "   while i<num_test:\n",
        "     j = min(i + test_batch_size, num_test)\n",
        "     images = data.x_test[i:j, :]\n",
        "     labels = data.y_test[i:j, :]\n",
        "     feed_dict = {x:images, \n",
        "                  y_true: labels}\n",
        "     cls_pred[i:j] = session.run(y_pred_cls, feed_dict = feed_dict)\n",
        "     i = j\n",
        "     cls_true = data.y_test_cls\n",
        "     correct = (cls_true == cls_pred)\n",
        "     correct_sum = correct.sum()\n",
        "     acc = float(correct_sum) / num_test\n",
        "     msg = \"Test accuracy: {0:.1%} ({1}/{2})\"\n",
        "     print(msg.format(acc, correct_sum, num_test))\n",
        "\n",
        "     if show_example_errors:\n",
        "       print(\"Example errors: \")\n",
        "       plot_example_errors(cls_pred=cls_pred, correct = correct)\n",
        "     \n",
        "     if show_confusion_matrix:\n",
        "       print(\"Confusion matrix: \")\n",
        "       plot_confusion_matrix(cls_pred = cls_pred)\n",
        "  "
      ],
      "execution_count": 0,
      "outputs": []
    }
  ]
}